{
  "nbformat": 4,
  "nbformat_minor": 0,
  "metadata": {
    "colab": {
      "provenance": []
    },
    "kernelspec": {
      "name": "python3",
      "display_name": "Python 3"
    },
    "language_info": {
      "name": "python"
    }
  },
  "cells": [
    {
      "cell_type": "code",
      "execution_count": 1,
      "metadata": {
        "id": "z61iLE2yrRhB"
      },
      "outputs": [],
      "source": [
        "import pandas as pd\n",
        "import numpy as np\n",
        "import matplotlib.pyplot as plt\n",
        "import seaborn as sns\n",
        "from sklearn.model_selection import train_test_split\n",
        "from sklearn.preprocessing import StandardScaler\n",
        "from sklearn.linear_model import LogisticRegression\n",
        "from sklearn.metrics import classification_report, confusion_matrix, accuracy_score\n",
        "\n",
        "\n",
        "url = \"https://archive.ics.uci.edu/ml/machine-learning-databases/breast-cancer-wisconsin/wdbc.data\"\n",
        "column_names = ['ID', 'Diagnosis'] + [f'feature_{i}' for i in range(1, 31)]\n",
        "df = pd.read_csv(url, header=None, names=column_names)\n"
      ]
    },
    {
      "cell_type": "code",
      "source": [
        "# Display few rows of the dataframe\n",
        "print(df.head())\n",
        "\n",
        "# Verify that no values are missing.\n",
        "print(df.isnull().sum())\n"
      ],
      "metadata": {
        "colab": {
          "base_uri": "https://localhost:8080/"
        },
        "id": "e_J3cYh6ra9f",
        "outputId": "7094a2ff-c503-45be-cc90-1b5604f7238d"
      },
      "execution_count": 2,
      "outputs": [
        {
          "output_type": "stream",
          "name": "stdout",
          "text": [
            "         ID Diagnosis  feature_1  feature_2  feature_3  feature_4  feature_5  \\\n",
            "0    842302         M      17.99      10.38     122.80     1001.0    0.11840   \n",
            "1    842517         M      20.57      17.77     132.90     1326.0    0.08474   \n",
            "2  84300903         M      19.69      21.25     130.00     1203.0    0.10960   \n",
            "3  84348301         M      11.42      20.38      77.58      386.1    0.14250   \n",
            "4  84358402         M      20.29      14.34     135.10     1297.0    0.10030   \n",
            "\n",
            "   feature_6  feature_7  feature_8  ...  feature_21  feature_22  feature_23  \\\n",
            "0    0.27760     0.3001    0.14710  ...       25.38       17.33      184.60   \n",
            "1    0.07864     0.0869    0.07017  ...       24.99       23.41      158.80   \n",
            "2    0.15990     0.1974    0.12790  ...       23.57       25.53      152.50   \n",
            "3    0.28390     0.2414    0.10520  ...       14.91       26.50       98.87   \n",
            "4    0.13280     0.1980    0.10430  ...       22.54       16.67      152.20   \n",
            "\n",
            "   feature_24  feature_25  feature_26  feature_27  feature_28  feature_29  \\\n",
            "0      2019.0      0.1622      0.6656      0.7119      0.2654      0.4601   \n",
            "1      1956.0      0.1238      0.1866      0.2416      0.1860      0.2750   \n",
            "2      1709.0      0.1444      0.4245      0.4504      0.2430      0.3613   \n",
            "3       567.7      0.2098      0.8663      0.6869      0.2575      0.6638   \n",
            "4      1575.0      0.1374      0.2050      0.4000      0.1625      0.2364   \n",
            "\n",
            "   feature_30  \n",
            "0     0.11890  \n",
            "1     0.08902  \n",
            "2     0.08758  \n",
            "3     0.17300  \n",
            "4     0.07678  \n",
            "\n",
            "[5 rows x 32 columns]\n",
            "ID            0\n",
            "Diagnosis     0\n",
            "feature_1     0\n",
            "feature_2     0\n",
            "feature_3     0\n",
            "feature_4     0\n",
            "feature_5     0\n",
            "feature_6     0\n",
            "feature_7     0\n",
            "feature_8     0\n",
            "feature_9     0\n",
            "feature_10    0\n",
            "feature_11    0\n",
            "feature_12    0\n",
            "feature_13    0\n",
            "feature_14    0\n",
            "feature_15    0\n",
            "feature_16    0\n",
            "feature_17    0\n",
            "feature_18    0\n",
            "feature_19    0\n",
            "feature_20    0\n",
            "feature_21    0\n",
            "feature_22    0\n",
            "feature_23    0\n",
            "feature_24    0\n",
            "feature_25    0\n",
            "feature_26    0\n",
            "feature_27    0\n",
            "feature_28    0\n",
            "feature_29    0\n",
            "feature_30    0\n",
            "dtype: int64\n"
          ]
        }
      ]
    },
    {
      "cell_type": "code",
      "source": [
        "# Encode the target variable: M = 1 (malignant), B = 0 (benign)\n",
        "df['Diagnosis'] = df['Diagnosis'].map({'M': 1, 'B': 0})\n",
        "\n",
        "# Remove the ID column as the analysis doesn't require it.\n",
        "df = df.drop('ID', axis=1)"
      ],
      "metadata": {
        "id": "luqfkwzrrazx"
      },
      "execution_count": 3,
      "outputs": []
    },
    {
      "cell_type": "code",
      "source": [
        "scaler = StandardScaler()\n",
        "scaled_features = scaler.fit_transform(df.drop('Diagnosis', axis=1))\n",
        "\n",
        "#Make a DataFrame with the features scaled.\n",
        "scaled_df = pd.DataFrame(scaled_features, columns=df.columns[1:])\n",
        "scaled_df['Diagnosis'] = df['Diagnosis']\n",
        "\n",
        "# Show the scaled dataframe's first few rows.\n",
        "print(scaled_df.head())"
      ],
      "metadata": {
        "colab": {
          "base_uri": "https://localhost:8080/"
        },
        "id": "wUd50V1srapw",
        "outputId": "38f5ebea-535d-41c9-d53b-f2110973e91b"
      },
      "execution_count": 4,
      "outputs": [
        {
          "output_type": "stream",
          "name": "stdout",
          "text": [
            "   feature_1  feature_2  feature_3  feature_4  feature_5  feature_6  \\\n",
            "0   1.097064  -2.073335   1.269934   0.984375   1.568466   3.283515   \n",
            "1   1.829821  -0.353632   1.685955   1.908708  -0.826962  -0.487072   \n",
            "2   1.579888   0.456187   1.566503   1.558884   0.942210   1.052926   \n",
            "3  -0.768909   0.253732  -0.592687  -0.764464   3.283553   3.402909   \n",
            "4   1.750297  -1.151816   1.776573   1.826229   0.280372   0.539340   \n",
            "\n",
            "   feature_7  feature_8  feature_9  feature_10  ...  feature_22  feature_23  \\\n",
            "0   2.652874   2.532475   2.217515    2.255747  ...   -1.359293    2.303601   \n",
            "1  -0.023846   0.548144   0.001392   -0.868652  ...   -0.369203    1.535126   \n",
            "2   1.363478   2.037231   0.939685   -0.398008  ...   -0.023974    1.347475   \n",
            "3   1.915897   1.451707   2.867383    4.910919  ...    0.133984   -0.249939   \n",
            "4   1.371011   1.428493  -0.009560   -0.562450  ...   -1.466770    1.338539   \n",
            "\n",
            "   feature_24  feature_25  feature_26  feature_27  feature_28  feature_29  \\\n",
            "0    2.001237    1.307686    2.616665    2.109526    2.296076    2.750622   \n",
            "1    1.890489   -0.375612   -0.430444   -0.146749    1.087084   -0.243890   \n",
            "2    1.456285    0.527407    1.082932    0.854974    1.955000    1.152255   \n",
            "3   -0.550021    3.394275    3.893397    1.989588    2.175786    6.046041   \n",
            "4    1.220724    0.220556   -0.313395    0.613179    0.729259   -0.868353   \n",
            "\n",
            "   feature_30  Diagnosis  \n",
            "0    1.937015          1  \n",
            "1    0.281190          1  \n",
            "2    0.201391          1  \n",
            "3    4.935010          1  \n",
            "4   -0.397100          1  \n",
            "\n",
            "[5 rows x 31 columns]\n"
          ]
        }
      ]
    },
    {
      "cell_type": "code",
      "source": [
        "X = scaled_df.drop('Diagnosis', axis=1)\n",
        "y = scaled_df['Diagnosis']\n",
        "\n",
        "X_train, X_test, y_train, y_test = train_test_split(X, y, test_size=0.2, random_state=42)\n",
        "\n",
        "# Show the training and testing sets' shapes.\n",
        "print(\"\\nShape of the training and testing sets:\")\n",
        "print(\"X_train shape:\", X_train.shape)\n",
        "print(\"X_test shape:\", X_test.shape)\n",
        "print(\"y_train shape:\", y_train.shape)\n",
        "print(\"y_test shape:\", y_test.shape)"
      ],
      "metadata": {
        "colab": {
          "base_uri": "https://localhost:8080/"
        },
        "id": "ED6F4eKkraeL",
        "outputId": "da2cec9d-e9d7-41b0-a1ac-51ca75bb8f64"
      },
      "execution_count": 5,
      "outputs": [
        {
          "output_type": "stream",
          "name": "stdout",
          "text": [
            "\n",
            "Shape of the training and testing sets:\n",
            "X_train shape: (455, 30)\n",
            "X_test shape: (114, 30)\n",
            "y_train shape: (455,)\n",
            "y_test shape: (114,)\n"
          ]
        }
      ]
    },
    {
      "cell_type": "code",
      "source": [
        "# Set up and practice the model.\n",
        "model = LogisticRegression(random_state=42)\n",
        "model.fit(X_train, y_train)\n",
        "\n",
        "# Predictions\n",
        "y_pred = model.predict(X_test)"
      ],
      "metadata": {
        "id": "uNpKC6C6raMU"
      },
      "execution_count": 6,
      "outputs": []
    },
    {
      "cell_type": "code",
      "source": [
        "#calculate the accuracy\n",
        "accuracy = accuracy_score(y_test,y_pred)\n",
        "print(f'Accuracy: {accuracy:.2f}')\n",
        "\n",
        "#Show the report on classification\n",
        "print('Classification Report: ')\n",
        "print(classification_report(y_test, y_pred))\n",
        "\n",
        "# Draw the confusion matrix.\n",
        "conf_matrix = confusion_matrix(y_test, y_pred)\n",
        "sns.heatmap(conf_matrix, annot=True, fmt='d', cmap='plasma', xticklabels=['Benign', 'Malignant'], yticklabels=['Benign', 'Malignant'])\n",
        "plt.xlabel('Predicted')\n",
        "plt.ylabel('Actual')\n",
        "plt.title('Confusion Matrix')\n",
        "plt.show()\n",
        "\n",
        "# Evaluate the model\n",
        "print('Confusion Matrix: ')\n",
        "print(confusion_matrix(y_test, y_pred))\n"
      ],
      "metadata": {
        "colab": {
          "base_uri": "https://localhost:8080/",
          "height": 715
        },
        "id": "haUuu7PvrZtU",
        "outputId": "591ce348-c8e5-4aa5-af67-f7a260fe8154"
      },
      "execution_count": 7,
      "outputs": [
        {
          "output_type": "stream",
          "name": "stdout",
          "text": [
            "Accuracy: 0.97\n",
            "Classification Report: \n",
            "              precision    recall  f1-score   support\n",
            "\n",
            "           0       0.97      0.99      0.98        71\n",
            "           1       0.98      0.95      0.96        43\n",
            "\n",
            "    accuracy                           0.97       114\n",
            "   macro avg       0.97      0.97      0.97       114\n",
            "weighted avg       0.97      0.97      0.97       114\n",
            "\n"
          ]
        },
        {
          "output_type": "display_data",
          "data": {
            "text/plain": [
              "<Figure size 640x480 with 2 Axes>"
            ],
            "image/png": "[encoded data removed]"
          },
          "metadata": {}
        },
        {
          "output_type": "stream",
          "name": "stdout",
          "text": [
            "Confusion Matrix: \n",
            "[[70  1]\n",
            " [ 2 41]]\n"
          ]
        }
      ]
    },
    {
      "cell_type": "code",
      "source": [],
      "metadata": {
        "id": "aEQflsJEr0Ap"
      },
      "execution_count": 7,
      "outputs": []
    },
    {
      "cell_type": "code",
      "source": [],
      "metadata": {
        "id": "cR6J73ymrzzi"
      },
      "execution_count": 7,
      "outputs": []
    }
  ]
}